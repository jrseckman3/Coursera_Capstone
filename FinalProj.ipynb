{
 "cells": [
  {
   "cell_type": "markdown",
   "metadata": {},
   "source": [
    "# This notebook is for the IBM Data Science Certificate Capstone Project called The Battle of the Neighborhoods"
   ]
  },
  {
   "cell_type": "markdown",
   "metadata": {},
   "source": [
    "### Please see the accompanying report and presentation which incorporate the data findings derived here"
   ]
  },
  {
   "cell_type": "code",
   "execution_count": 1,
   "metadata": {},
   "outputs": [],
   "source": [
    "import pandas as pd\n",
    "import numpy as np"
   ]
  },
  {
   "cell_type": "code",
   "execution_count": 2,
   "metadata": {},
   "outputs": [
    {
     "data": {
      "text/html": [
       "<div>\n",
       "<style scoped>\n",
       "    .dataframe tbody tr th:only-of-type {\n",
       "        vertical-align: middle;\n",
       "    }\n",
       "\n",
       "    .dataframe tbody tr th {\n",
       "        vertical-align: top;\n",
       "    }\n",
       "\n",
       "    .dataframe thead th {\n",
       "        text-align: right;\n",
       "    }\n",
       "</style>\n",
       "<table border=\"1\" class=\"dataframe\">\n",
       "  <thead>\n",
       "    <tr style=\"text-align: right;\">\n",
       "      <th></th>\n",
       "      <th>Address</th>\n",
       "      <th>Price</th>\n",
       "      <th>Beds</th>\n",
       "      <th>Bath</th>\n",
       "      <th>SqFt</th>\n",
       "      <th>Sold</th>\n",
       "      <th>Bmt Unf</th>\n",
       "      <th>Bsmt Fin</th>\n",
       "      <th>Year</th>\n",
       "      <th>ES</th>\n",
       "      <th>MS</th>\n",
       "      <th>HS</th>\n",
       "      <th>Garage</th>\n",
       "      <th>Subdivision</th>\n",
       "      <th>View</th>\n",
       "      <th>District Rating</th>\n",
       "    </tr>\n",
       "  </thead>\n",
       "  <tbody>\n",
       "    <tr>\n",
       "      <th>0</th>\n",
       "      <td>421 Winding Creek Pl</td>\n",
       "      <td>378000</td>\n",
       "      <td>4</td>\n",
       "      <td>3.0</td>\n",
       "      <td>3052</td>\n",
       "      <td>5/30/2019</td>\n",
       "      <td>936</td>\n",
       "      <td>0</td>\n",
       "      <td>1974.0</td>\n",
       "      <td>East Side</td>\n",
       "      <td>Dickerson</td>\n",
       "      <td>Walton</td>\n",
       "      <td>attached</td>\n",
       "      <td>Indian Hills</td>\n",
       "      <td>NaN</td>\n",
       "      <td>0.94</td>\n",
       "    </tr>\n",
       "    <tr>\n",
       "      <th>1</th>\n",
       "      <td>403 Indian Hills Trail</td>\n",
       "      <td>443900</td>\n",
       "      <td>4</td>\n",
       "      <td>3.0</td>\n",
       "      <td>2800</td>\n",
       "      <td>8/31/2019</td>\n",
       "      <td>524</td>\n",
       "      <td>0</td>\n",
       "      <td>1974.0</td>\n",
       "      <td>East Side</td>\n",
       "      <td>Dickerson</td>\n",
       "      <td>Walton</td>\n",
       "      <td>NaN</td>\n",
       "      <td>Indian Hills</td>\n",
       "      <td>NaN</td>\n",
       "      <td>0.94</td>\n",
       "    </tr>\n",
       "    <tr>\n",
       "      <th>2</th>\n",
       "      <td>130 Indian Hills Court</td>\n",
       "      <td>385000</td>\n",
       "      <td>3</td>\n",
       "      <td>2.0</td>\n",
       "      <td>2566</td>\n",
       "      <td>8/16/2019</td>\n",
       "      <td>0</td>\n",
       "      <td>0</td>\n",
       "      <td>NaN</td>\n",
       "      <td>East Valley</td>\n",
       "      <td>East Cobb</td>\n",
       "      <td>Wheeler</td>\n",
       "      <td>attached</td>\n",
       "      <td>Indian Hills</td>\n",
       "      <td>NaN</td>\n",
       "      <td>0.67</td>\n",
       "    </tr>\n",
       "    <tr>\n",
       "      <th>3</th>\n",
       "      <td>3494 Clubland Drive</td>\n",
       "      <td>400000</td>\n",
       "      <td>3</td>\n",
       "      <td>3.0</td>\n",
       "      <td>1866</td>\n",
       "      <td>9/10/2019</td>\n",
       "      <td>0</td>\n",
       "      <td>0</td>\n",
       "      <td>1972.0</td>\n",
       "      <td>East Side</td>\n",
       "      <td>Dickerson</td>\n",
       "      <td>Walton</td>\n",
       "      <td>NaN</td>\n",
       "      <td>Indian Hills</td>\n",
       "      <td>NaN</td>\n",
       "      <td>0.94</td>\n",
       "    </tr>\n",
       "    <tr>\n",
       "      <th>4</th>\n",
       "      <td>3483 Clubland Drive</td>\n",
       "      <td>492500</td>\n",
       "      <td>4</td>\n",
       "      <td>5.0</td>\n",
       "      <td>2310</td>\n",
       "      <td>6/20/2019</td>\n",
       "      <td>0</td>\n",
       "      <td>0</td>\n",
       "      <td>1972.0</td>\n",
       "      <td>East Side</td>\n",
       "      <td>Dickerson</td>\n",
       "      <td>Walton</td>\n",
       "      <td>attached</td>\n",
       "      <td>Indian Hills</td>\n",
       "      <td>Golf</td>\n",
       "      <td>0.94</td>\n",
       "    </tr>\n",
       "  </tbody>\n",
       "</table>\n",
       "</div>"
      ],
      "text/plain": [
       "                  Address   Price  Beds  Bath  SqFt      Sold   Bmt Unf  \\\n",
       "0    421 Winding Creek Pl  378000     4   3.0  3052  5/30/2019      936   \n",
       "1  403 Indian Hills Trail  443900     4   3.0  2800  8/31/2019      524   \n",
       "2  130 Indian Hills Court  385000     3   2.0  2566  8/16/2019        0   \n",
       "3     3494 Clubland Drive  400000     3   3.0  1866  9/10/2019        0   \n",
       "4     3483 Clubland Drive  492500     4   5.0  2310  6/20/2019        0   \n",
       "\n",
       "   Bsmt Fin    Year           ES         MS       HS    Garage   Subdivision  \\\n",
       "0         0  1974.0   East Side   Dickerson   Walton  attached  Indian Hills   \n",
       "1         0  1974.0   East Side   Dickerson   Walton       NaN  Indian Hills   \n",
       "2         0     NaN  East Valley  East Cobb  Wheeler  attached  Indian Hills   \n",
       "3         0  1972.0   East Side   Dickerson   Walton       NaN  Indian Hills   \n",
       "4         0  1972.0   East Side   Dickerson   Walton  attached  Indian Hills   \n",
       "\n",
       "   View  District Rating  \n",
       "0   NaN             0.94  \n",
       "1   NaN             0.94  \n",
       "2   NaN             0.67  \n",
       "3   NaN             0.94  \n",
       "4  Golf             0.94  "
      ]
     },
     "execution_count": 2,
     "metadata": {},
     "output_type": "execute_result"
    }
   ],
   "source": [
    "path='SalesData.csv'\n",
    "df = pd.read_csv(path)\n",
    "df.head()"
   ]
  },
  {
   "cell_type": "code",
   "execution_count": 7,
   "metadata": {},
   "outputs": [],
   "source": [
    "%%capture\n",
    "! pip install seaborn"
   ]
  },
  {
   "cell_type": "code",
   "execution_count": 8,
   "metadata": {},
   "outputs": [],
   "source": [
    "import matplotlib.pyplot as plt\n",
    "import seaborn as sns\n",
    "%matplotlib inline "
   ]
  },
  {
   "cell_type": "code",
   "execution_count": 9,
   "metadata": {},
   "outputs": [
    {
     "data": {
      "text/plain": [
       "(0, 512317.9709345106)"
      ]
     },
     "execution_count": 9,
     "metadata": {},
     "output_type": "execute_result"
    },
    {
     "data": {
      "image/png": "[encoded data removed]",
      "text/plain": [
       "<Figure size 432x288 with 1 Axes>"
      ]
     },
     "metadata": {
      "needs_background": "light"
     },
     "output_type": "display_data"
    }
   ],
   "source": [
    "# District Rating as potential predictor variable of price\n",
    "sns.regplot(x=\"District Rating\", y=\"Price\", data=df)\n",
    "plt.ylim(0,)"
   ]
  },
  {
   "cell_type": "code",
   "execution_count": 11,
   "metadata": {},
   "outputs": [],
   "source": [
    "Z = df[['Beds', 'Bath', 'SqFt', 'Bmt Unf', 'Bsmt Fin', 'District Rating']]"
   ]
  },
  {
   "cell_type": "code",
   "execution_count": 12,
   "metadata": {},
   "outputs": [],
   "source": [
    "from sklearn.linear_model import LinearRegression"
   ]
  },
  {
   "cell_type": "code",
   "execution_count": 13,
   "metadata": {},
   "outputs": [
    {
     "data": {
      "text/plain": [
       "LinearRegression(copy_X=True, fit_intercept=True, n_jobs=None,\n",
       "         normalize=False)"
      ]
     },
     "execution_count": 13,
     "metadata": {},
     "output_type": "execute_result"
    }
   ],
   "source": [
    "lm = LinearRegression()\n",
    "lm"
   ]
  },
  {
   "cell_type": "code",
   "execution_count": 14,
   "metadata": {},
   "outputs": [
    {
     "data": {
      "text/plain": [
       "LinearRegression(copy_X=True, fit_intercept=True, n_jobs=None,\n",
       "         normalize=False)"
      ]
     },
     "execution_count": 14,
     "metadata": {},
     "output_type": "execute_result"
    }
   ],
   "source": [
    "lm.fit(Z, df['Price'])"
   ]
  },
  {
   "cell_type": "code",
   "execution_count": 15,
   "metadata": {},
   "outputs": [
    {
     "data": {
      "text/plain": [
       "83545.79359976726"
      ]
     },
     "execution_count": 15,
     "metadata": {},
     "output_type": "execute_result"
    }
   ],
   "source": [
    "lm.intercept_"
   ]
  },
  {
   "cell_type": "code",
   "execution_count": 16,
   "metadata": {},
   "outputs": [
    {
     "data": {
      "text/plain": [
       "array([-5.20464785e+03,  1.92504827e+04,  5.94197889e+01, -3.94557907e+01,\n",
       "        3.52624076e+01,  1.44994086e+05])"
      ]
     },
     "execution_count": 16,
     "metadata": {},
     "output_type": "execute_result"
    }
   ],
   "source": [
    "lm.coef_"
   ]
  },
  {
   "cell_type": "markdown",
   "metadata": {},
   "source": [
    "## so we have our price prediction equation as:\n",
    "## Price = 83545 + Beds x -140.98 +  Bath x 13.73 + 5.94 x SqFt + -3.94 x Bsm Unf + 3.52 x Bsmt Fin + 1.44 x District Rating"
   ]
  },
  {
   "cell_type": "code",
   "execution_count": 17,
   "metadata": {},
   "outputs": [],
   "source": [
    "import seaborn as sns\n",
    "%matplotlib inline "
   ]
  },
  {
   "cell_type": "code",
   "execution_count": 19,
   "metadata": {},
   "outputs": [
    {
     "data": {
      "text/plain": [
       "(0, 579006.7257086193)"
      ]
     },
     "execution_count": 19,
     "metadata": {},
     "output_type": "execute_result"
    },
    {
     "data": {
      "image/png": "[encoded data removed]",
      "text/plain": [
       "<Figure size 864x720 with 1 Axes>"
      ]
     },
     "metadata": {
      "needs_background": "light"
     },
     "output_type": "display_data"
    }
   ],
   "source": [
    "width = 12\n",
    "height = 10\n",
    "plt.figure(figsize=(width, height))\n",
    "sns.regplot(x=\"SqFt\", y=\"Price\", data=df)\n",
    "plt.ylim(0,)"
   ]
  },
  {
   "cell_type": "code",
   "execution_count": 22,
   "metadata": {},
   "outputs": [
    {
     "data": {
      "text/html": [
       "<div>\n",
       "<style scoped>\n",
       "    .dataframe tbody tr th:only-of-type {\n",
       "        vertical-align: middle;\n",
       "    }\n",
       "\n",
       "    .dataframe tbody tr th {\n",
       "        vertical-align: top;\n",
       "    }\n",
       "\n",
       "    .dataframe thead th {\n",
       "        text-align: right;\n",
       "    }\n",
       "</style>\n",
       "<table border=\"1\" class=\"dataframe\">\n",
       "  <thead>\n",
       "    <tr style=\"text-align: right;\">\n",
       "      <th></th>\n",
       "      <th>Beds</th>\n",
       "      <th>Bath</th>\n",
       "      <th>SqFt</th>\n",
       "      <th>Bmt Unf</th>\n",
       "      <th>Bsmt Fin</th>\n",
       "      <th>District Rating</th>\n",
       "      <th>Price</th>\n",
       "    </tr>\n",
       "  </thead>\n",
       "  <tbody>\n",
       "    <tr>\n",
       "      <th>Beds</th>\n",
       "      <td>1.000000</td>\n",
       "      <td>0.471253</td>\n",
       "      <td>0.429308</td>\n",
       "      <td>-0.012818</td>\n",
       "      <td>0.154308</td>\n",
       "      <td>0.151462</td>\n",
       "      <td>0.359360</td>\n",
       "    </tr>\n",
       "    <tr>\n",
       "      <th>Bath</th>\n",
       "      <td>0.471253</td>\n",
       "      <td>1.000000</td>\n",
       "      <td>0.120469</td>\n",
       "      <td>-0.061944</td>\n",
       "      <td>0.077231</td>\n",
       "      <td>0.166639</td>\n",
       "      <td>0.318249</td>\n",
       "    </tr>\n",
       "    <tr>\n",
       "      <th>SqFt</th>\n",
       "      <td>0.429308</td>\n",
       "      <td>0.120469</td>\n",
       "      <td>1.000000</td>\n",
       "      <td>0.144286</td>\n",
       "      <td>0.253866</td>\n",
       "      <td>-0.022870</td>\n",
       "      <td>0.572481</td>\n",
       "    </tr>\n",
       "    <tr>\n",
       "      <th>Bmt Unf</th>\n",
       "      <td>-0.012818</td>\n",
       "      <td>-0.061944</td>\n",
       "      <td>0.144286</td>\n",
       "      <td>1.000000</td>\n",
       "      <td>-0.086308</td>\n",
       "      <td>0.209340</td>\n",
       "      <td>-0.006134</td>\n",
       "    </tr>\n",
       "    <tr>\n",
       "      <th>Bsmt Fin</th>\n",
       "      <td>0.154308</td>\n",
       "      <td>0.077231</td>\n",
       "      <td>0.253866</td>\n",
       "      <td>-0.086308</td>\n",
       "      <td>1.000000</td>\n",
       "      <td>-0.057610</td>\n",
       "      <td>0.356935</td>\n",
       "    </tr>\n",
       "    <tr>\n",
       "      <th>District Rating</th>\n",
       "      <td>0.151462</td>\n",
       "      <td>0.166639</td>\n",
       "      <td>-0.022870</td>\n",
       "      <td>0.209340</td>\n",
       "      <td>-0.057610</td>\n",
       "      <td>1.000000</td>\n",
       "      <td>0.306800</td>\n",
       "    </tr>\n",
       "    <tr>\n",
       "      <th>Price</th>\n",
       "      <td>0.359360</td>\n",
       "      <td>0.318249</td>\n",
       "      <td>0.572481</td>\n",
       "      <td>-0.006134</td>\n",
       "      <td>0.356935</td>\n",
       "      <td>0.306800</td>\n",
       "      <td>1.000000</td>\n",
       "    </tr>\n",
       "  </tbody>\n",
       "</table>\n",
       "</div>"
      ],
      "text/plain": [
       "                     Beds      Bath      SqFt   Bmt Unf  Bsmt Fin  \\\n",
       "Beds             1.000000  0.471253  0.429308 -0.012818  0.154308   \n",
       "Bath             0.471253  1.000000  0.120469 -0.061944  0.077231   \n",
       "SqFt             0.429308  0.120469  1.000000  0.144286  0.253866   \n",
       "Bmt Unf         -0.012818 -0.061944  0.144286  1.000000 -0.086308   \n",
       "Bsmt Fin         0.154308  0.077231  0.253866 -0.086308  1.000000   \n",
       "District Rating  0.151462  0.166639 -0.022870  0.209340 -0.057610   \n",
       "Price            0.359360  0.318249  0.572481 -0.006134  0.356935   \n",
       "\n",
       "                 District Rating     Price  \n",
       "Beds                    0.151462  0.359360  \n",
       "Bath                    0.166639  0.318249  \n",
       "SqFt                   -0.022870  0.572481  \n",
       "Bmt Unf                 0.209340 -0.006134  \n",
       "Bsmt Fin               -0.057610  0.356935  \n",
       "District Rating         1.000000  0.306800  \n",
       "Price                   0.306800  1.000000  "
      ]
     },
     "execution_count": 22,
     "metadata": {},
     "output_type": "execute_result"
    }
   ],
   "source": [
    "df[['Beds', 'Bath', 'SqFt', 'Bmt Unf', 'Bsmt Fin', 'District Rating',\"Price\"]].corr()"
   ]
  },
  {
   "cell_type": "code",
   "execution_count": 26,
   "metadata": {},
   "outputs": [],
   "source": [
    "Y_hat = lm.predict(Z)"
   ]
  },
  {
   "cell_type": "code",
   "execution_count": 29,
   "metadata": {},
   "outputs": [
    {
     "data": {
      "image/png": "[encoded data removed]",
      "text/plain": [
       "<Figure size 864x720 with 1 Axes>"
      ]
     },
     "metadata": {
      "needs_background": "light"
     },
     "output_type": "display_data"
    }
   ],
   "source": [
    "plt.figure(figsize=(width, height))\n",
    "\n",
    "\n",
    "ax1 = sns.distplot(df['Price'], hist=False, color=\"r\", label=\"Actual Value\")\n",
    "sns.distplot(Y_hat, hist=False, color=\"b\", label=\"Fitted Values\" , ax=ax1)\n",
    "\n",
    "\n",
    "plt.title('Actual vs Fitted Values for Price')\n",
    "plt.xlabel('Price (in dollars)')\n",
    "\n",
    "\n",
    "plt.show()\n",
    "plt.close()"
   ]
  },
  {
   "cell_type": "code",
   "execution_count": 30,
   "metadata": {},
   "outputs": [],
   "source": [
    "def PlotPolly(model, independent_variable, dependent_variabble, Name):\n",
    "    x_new = np.linspace(15, 55, 100)\n",
    "    y_new = model(x_new)\n",
    "\n",
    "    plt.plot(independent_variable, dependent_variabble, '.', x_new, y_new, '-')\n",
    "    plt.title('Polynomial Fit with Matplotlib for Price ~ Length')\n",
    "    ax = plt.gca()\n",
    "    ax.set_facecolor((0.898, 0.898, 0.898))\n",
    "    fig = plt.gcf()\n",
    "    plt.xlabel(Name)\n",
    "    plt.ylabel('Price of Homes')\n",
    "\n",
    "    plt.show()\n",
    "    plt.close()"
   ]
  },
  {
   "cell_type": "code",
   "execution_count": 32,
   "metadata": {},
   "outputs": [
    {
     "name": "stdout",
     "output_type": "stream",
     "text": [
      "The R-square is:  0.5351629188320994\n"
     ]
    }
   ],
   "source": [
    "# fit the model \n",
    "#lm.fit(Z, df['price'])\n",
    "# Find the R^2\n",
    "print('The R-square is: ', lm.score(Z, df['Price']))"
   ]
  },
  {
   "cell_type": "markdown",
   "metadata": {},
   "source": [
    "### We can say that ~ 54 % of the variation of price is explained by this multiple linear regression \"multi_fit\""
   ]
  },
  {
   "cell_type": "code",
   "execution_count": null,
   "metadata": {},
   "outputs": [],
   "source": []
  }
 ],
 "metadata": {
  "kernelspec": {
   "display_name": "Python",
   "language": "python",
   "name": "conda-env-python-py"
  },
  "language_info": {
   "codemirror_mode": {
    "name": "ipython",
    "version": 3
   },
   "file_extension": ".py",
   "mimetype": "text/x-python",
   "name": "python",
   "nbconvert_exporter": "python",
   "pygments_lexer": "ipython3",
   "version": "3.6.10"
  }
 },
 "nbformat": 4,
 "nbformat_minor": 4
}
